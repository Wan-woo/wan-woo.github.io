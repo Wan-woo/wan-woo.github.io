{
 "cells": [
  {
   "cell_type": "code",
   "execution_count": 1,
   "metadata": {},
   "outputs": [],
   "source": [
    "import cv2 \n",
    "import numpy as np\n",
    "\n",
    "videoCapture = cv2.VideoCapture(\"motion.mp4\")\n",
    "\n",
    "i = 1\n",
    "success, frame = videoCapture.read()\n",
    "while success:\n",
    "    success, frame = videoCapture.read()\n",
    "    i += 1\n",
    "    if i == 5:\n",
    "        cv2.imwrite(\"motion.jpg\", frame)\n",
    "        break\n",
    "\n"
   ]
  },
  {
   "cell_type": "code",
   "execution_count": 3,
   "metadata": {},
   "outputs": [
    {
     "data": {
      "text/plain": [
       "True"
      ]
     },
     "execution_count": 3,
     "metadata": {},
     "output_type": "execute_result"
    }
   ],
   "source": [
    "import cv2 \n",
    "import numpy as np\n",
    "\n",
    "videoCapture = cv2.VideoCapture(\"motion.mp4\")\n",
    "success, frame = videoCapture.read()\n",
    "success, frame = videoCapture.read()\n",
    "cv2.imwrite(\"motion.jpg\", frame)\n"
   ]
  }
 ],
 "metadata": {
  "kernelspec": {
   "display_name": "Python 3",
   "language": "python",
   "name": "python3"
  },
  "language_info": {
   "codemirror_mode": {
    "name": "ipython",
    "version": 3
   },
   "file_extension": ".py",
   "mimetype": "text/x-python",
   "name": "python",
   "nbconvert_exporter": "python",
   "pygments_lexer": "ipython3",
   "version": "3.9.13"
  },
  "orig_nbformat": 4,
  "vscode": {
   "interpreter": {
    "hash": "b0fa6594d8f4cbf19f97940f81e996739fb7646882a419484c72d19e05852a7e"
   }
  }
 },
 "nbformat": 4,
 "nbformat_minor": 2
}
